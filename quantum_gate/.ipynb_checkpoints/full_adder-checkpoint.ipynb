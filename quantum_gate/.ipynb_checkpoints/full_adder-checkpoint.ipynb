{
 "cells": [
  {
   "cell_type": "code",
   "execution_count": 1,
   "metadata": {},
   "outputs": [],
   "source": [
    "%matplotlib inline"
   ]
  },
  {
   "cell_type": "code",
   "execution_count": 2,
   "metadata": {},
   "outputs": [],
   "source": [
    "from braket.circuits import Circuit\n",
    "from braket.devices import LocalSimulator"
   ]
  },
  {
   "cell_type": "code",
   "execution_count": 3,
   "metadata": {},
   "outputs": [],
   "source": [
    "from plot_braket_circuit import *"
   ]
  },
  {
   "cell_type": "code",
   "execution_count": 4,
   "metadata": {},
   "outputs": [],
   "source": [
    "device = LocalSimulator()"
   ]
  },
  {
   "cell_type": "code",
   "execution_count": 5,
   "metadata": {},
   "outputs": [],
   "source": [
    "def FullAdderCircuit(carry_in, number_1, number_2, sum_output, carry_out):\n",
    "    full_adder = Circuit()\n",
    "    full_adder.cnot(carry_in,sum_output)\n",
    "    full_adder.cnot(number_1,sum_output)\n",
    "    full_adder.cnot(number_2,sum_output)\n",
    "    full_adder.ccnot(carry_in,number_1,carry_out)\n",
    "    full_adder.ccnot(carry_in,number_2,carry_out)\n",
    "    full_adder.ccnot(number_1,number_2,carry_out)\n",
    "    return full_adder\n",
    "    "
   ]
  },
  {
   "cell_type": "code",
   "execution_count": 6,
   "metadata": {},
   "outputs": [],
   "source": [
    "full_adder = FullAdderCircuit(0,1,2,3,4)"
   ]
  },
  {
   "cell_type": "code",
   "execution_count": 7,
   "metadata": {},
   "outputs": [
    {
     "name": "stdout",
     "output_type": "stream",
     "text": [
      "T  : |0|1| 2 |3|4|\n",
      "                  \n",
      "q0 : -C-----C-C---\n",
      "      |     | |   \n",
      "q1 : -|-C---C-|-C-\n",
      "      | |   | | | \n",
      "q2 : -|-|-C-|-C-C-\n",
      "      | | | | | | \n",
      "q3 : -X-X-X-|-|-|-\n",
      "            | | | \n",
      "q4 : -------X-X-X-\n",
      "\n",
      "T  : |0|1| 2 |3|4|\n"
     ]
    }
   ],
   "source": [
    "print(full_adder)"
   ]
  },
  {
   "cell_type": "code",
   "execution_count": 8,
   "metadata": {},
   "outputs": [],
   "source": [
    "full_adder_2 = FullAdderCircuit(4,5,6,7,8)"
   ]
  },
  {
   "cell_type": "code",
   "execution_count": 9,
   "metadata": {},
   "outputs": [
    {
     "name": "stdout",
     "output_type": "stream",
     "text": [
      "T  : |0|1| 2 |3|4|\n",
      "                  \n",
      "q4 : -C-----C-C---\n",
      "      |     | |   \n",
      "q5 : -|-C---C-|-C-\n",
      "      | |   | | | \n",
      "q6 : -|-|-C-|-C-C-\n",
      "      | | | | | | \n",
      "q7 : -X-X-X-|-|-|-\n",
      "            | | | \n",
      "q8 : -------X-X-X-\n",
      "\n",
      "T  : |0|1| 2 |3|4|\n"
     ]
    }
   ],
   "source": [
    "print(full_adder_2)"
   ]
  },
  {
   "cell_type": "code",
   "execution_count": 10,
   "metadata": {},
   "outputs": [],
   "source": [
    "two_digit_adder = full_adder + full_adder_2"
   ]
  },
  {
   "cell_type": "code",
   "execution_count": 11,
   "metadata": {},
   "outputs": [
    {
     "name": "stdout",
     "output_type": "stream",
     "text": [
      "T  : |0|1| 2 |3|4|5|6| 7 |8|9|\n",
      "                              \n",
      "q0 : -C-----C-C---------------\n",
      "      |     | |               \n",
      "q1 : -|-C---C-|-C-------------\n",
      "      | |   | | |             \n",
      "q2 : -|-|-C-|-C-C-------------\n",
      "      | | | | | |             \n",
      "q3 : -X-X-X-|-|-|-------------\n",
      "            | | |             \n",
      "q4 : -------X-X-X-C-----C-C---\n",
      "                  |     | |   \n",
      "q5 : -------------|-C---C-|-C-\n",
      "                  | |   | | | \n",
      "q6 : -------------|-|-C-|-C-C-\n",
      "                  | | | | | | \n",
      "q7 : -------------X-X-X-|-|-|-\n",
      "                        | | | \n",
      "q8 : -------------------X-X-X-\n",
      "\n",
      "T  : |0|1| 2 |3|4|5|6| 7 |8|9|\n"
     ]
    }
   ],
   "source": [
    "print(two_digit_adder)"
   ]
  },
  {
   "cell_type": "code",
   "execution_count": 12,
   "metadata": {},
   "outputs": [
    {
     "data": {
      "image/png": "[encoded data removed]",
      "text/plain": [
       "<Figure size 864x648 with 1 Axes>"
      ]
     },
     "metadata": {},
     "output_type": "display_data"
    }
   ],
   "source": [
    "plot_braket_circuit(two_digit_adder)"
   ]
  },
  {
   "cell_type": "code",
   "execution_count": 13,
   "metadata": {},
   "outputs": [],
   "source": [
    "def generate_input(input_list):\n",
    "    \n",
    "    result_list = list()\n",
    "    \n",
    "    for input_index, digit_string in enumerate(input_list):\n",
    "        cur_circuit = Circuit()\n",
    "        for reg_index, digit_value in enumerate(digit_string):\n",
    "            if (digit_value == '0'):\n",
    "                cur_circuit.i(reg_index)\n",
    "            elif (digit_value == '1'):\n",
    "                cur_circuit.x(reg_index)\n",
    "            else:\n",
    "                raise Exception('incorrect input value: \\'' + digit_value + '\\' in: ' + digit_string )\n",
    "        \n",
    "        result_list.append(cur_circuit)\n",
    "        \n",
    "    return result_list"
   ]
  },
  {
   "cell_type": "code",
   "execution_count": 14,
   "metadata": {},
   "outputs": [],
   "source": [
    "input_list = ['000101', '00001111', '0001010']"
   ]
  },
  {
   "cell_type": "code",
   "execution_count": 15,
   "metadata": {},
   "outputs": [],
   "source": [
    "result_list = generate_input(input_list)"
   ]
  },
  {
   "cell_type": "code",
   "execution_count": 16,
   "metadata": {},
   "outputs": [],
   "source": [
    "# for each_circuit in result_list:\n",
    "#     print (each_circuit)"
   ]
  },
  {
   "cell_type": "code",
   "execution_count": 17,
   "metadata": {},
   "outputs": [],
   "source": [
    "input_h = Circuit().i(0).h(1).h(2).i(3).i(4).h(5).h(6).i(7).i(8)"
   ]
  },
  {
   "cell_type": "code",
   "execution_count": 18,
   "metadata": {},
   "outputs": [],
   "source": [
    "full_circuit = input_h + two_digit_adder"
   ]
  },
  {
   "cell_type": "code",
   "execution_count": 19,
   "metadata": {},
   "outputs": [
    {
     "name": "stdout",
     "output_type": "stream",
     "text": [
      "T  : |0|1|2| 3 |4|5|6|7| 8 |9|10|\n",
      "                                 \n",
      "q0 : -I-C-----C-C----------------\n",
      "        |     | |                \n",
      "q1 : -H-|-C---C-|-C--------------\n",
      "        | |   | | |              \n",
      "q2 : -H-|-|-C-|-C-C--------------\n",
      "        | | | | | |              \n",
      "q3 : -I-X-X-X-|-|-|--------------\n",
      "              | | |              \n",
      "q4 : -I-------X-X-X-C-----C-C----\n",
      "                    |     | |    \n",
      "q5 : -H-------------|-C---C-|-C--\n",
      "                    | |   | | |  \n",
      "q6 : -H-------------|-|-C-|-C-C--\n",
      "                    | | | | | |  \n",
      "q7 : -I-------------X-X-X-|-|-|--\n",
      "                          | | |  \n",
      "q8 : -I-------------------X-X-X--\n",
      "\n",
      "T  : |0|1|2| 3 |4|5|6|7| 8 |9|10|\n"
     ]
    }
   ],
   "source": [
    "print (full_circuit)"
   ]
  },
  {
   "cell_type": "code",
   "execution_count": 20,
   "metadata": {},
   "outputs": [
    {
     "data": {
      "image/png": "[encoded data removed]",
      "text/plain": [
       "<Figure size 936x648 with 1 Axes>"
      ]
     },
     "metadata": {},
     "output_type": "display_data"
    }
   ],
   "source": [
    "plot_braket_circuit(full_circuit)"
   ]
  },
  {
   "cell_type": "code",
   "execution_count": 21,
   "metadata": {},
   "outputs": [
    {
     "name": "stdout",
     "output_type": "stream",
     "text": [
      "Counter({'011011111': 6412, '000000110': 6363, '011011001': 6361, '000001010': 6358, '011010101': 6330, '010101101': 6316, '000000000': 6283, '001100000': 6280, '010100000': 6254, '000001101': 6252, '001101010': 6184, '001101101': 6179, '010101010': 6166, '010100110': 6098, '011010010': 6084, '001100110': 6080})\n"
     ]
    }
   ],
   "source": [
    "task = device.run(full_circuit, shots=100000)\n",
    "result = task.result()\n",
    "\n",
    "print (result.measurement_counts)"
   ]
  },
  {
   "cell_type": "code",
   "execution_count": 22,
   "metadata": {},
   "outputs": [],
   "source": [
    "measurement_counts = result.measurement_counts"
   ]
  },
  {
   "cell_type": "code",
   "execution_count": 23,
   "metadata": {},
   "outputs": [],
   "source": [
    "key_list = list(measurement_counts.keys())"
   ]
  },
  {
   "cell_type": "code",
   "execution_count": 24,
   "metadata": {},
   "outputs": [],
   "source": [
    "key_list.sort()"
   ]
  },
  {
   "cell_type": "code",
   "execution_count": 25,
   "metadata": {},
   "outputs": [
    {
     "data": {
      "text/plain": [
       "['000000000',\n",
       " '000000110',\n",
       " '000001010',\n",
       " '000001101',\n",
       " '001100000',\n",
       " '001100110',\n",
       " '001101010',\n",
       " '001101101',\n",
       " '010100000',\n",
       " '010100110',\n",
       " '010101010',\n",
       " '010101101',\n",
       " '011010010',\n",
       " '011010101',\n",
       " '011011001',\n",
       " '011011111']"
      ]
     },
     "execution_count": 25,
     "metadata": {},
     "output_type": "execute_result"
    }
   ],
   "source": [
    "key_list"
   ]
  },
  {
   "cell_type": "code",
   "execution_count": 26,
   "metadata": {},
   "outputs": [],
   "source": [
    "keys = result.measurement_counts.keys()\n",
    "measure_result = dict()\n",
    "for each_key in keys:\n",
    "    new_key = each_key[8] + each_key[7] + each_key[3] \n",
    "    result.measurement_counts['each_key']\n",
    "    if (new_key in measure_result.keys()):\n",
    "        measure_result[new_key] = measure_result[new_key] + result.measurement_counts[each_key]/100000\n",
    "    else:\n",
    "        measure_result[new_key] = result.measurement_counts[each_key]/100000"
   ]
  },
  {
   "cell_type": "code",
   "execution_count": 27,
   "metadata": {},
   "outputs": [
    {
     "data": {
      "text/plain": [
       "{'101': 0.12494999999999999,\n",
       " '011': 0.24528,\n",
       " '000': 0.06283,\n",
       " '010': 0.18805,\n",
       " '001': 0.12534,\n",
       " '110': 0.06412,\n",
       " '100': 0.18943}"
      ]
     },
     "execution_count": 27,
     "metadata": {},
     "output_type": "execute_result"
    }
   ],
   "source": [
    "measure_result"
   ]
  },
  {
   "cell_type": "code",
   "execution_count": null,
   "metadata": {},
   "outputs": [],
   "source": []
  },
  {
   "cell_type": "code",
   "execution_count": 28,
   "metadata": {},
   "outputs": [
    {
     "data": {
      "text/plain": [
       "Program(braketSchemaHeader=BraketSchemaHeader(name='braket.ir.jaqcd.program', version='1'), results=[], basis_rotation_instructions=[], instructions=[I(type=<Type.i: 'i'>, target=0), H(type=<Type.h: 'h'>, target=1), H(type=<Type.h: 'h'>, target=2), I(type=<Type.i: 'i'>, target=3), I(type=<Type.i: 'i'>, target=4), H(type=<Type.h: 'h'>, target=5), H(type=<Type.h: 'h'>, target=6), I(type=<Type.i: 'i'>, target=7), I(type=<Type.i: 'i'>, target=8), CNot(type=<Type.cnot: 'cnot'>, control=0, target=3), CNot(type=<Type.cnot: 'cnot'>, control=1, target=3), CNot(type=<Type.cnot: 'cnot'>, control=2, target=3), CCNot(type=<Type.ccnot: 'ccnot'>, controls=[0, 1], target=4), CCNot(type=<Type.ccnot: 'ccnot'>, controls=[0, 2], target=4), CCNot(type=<Type.ccnot: 'ccnot'>, controls=[1, 2], target=4), CNot(type=<Type.cnot: 'cnot'>, control=4, target=7), CNot(type=<Type.cnot: 'cnot'>, control=5, target=7), CNot(type=<Type.cnot: 'cnot'>, control=6, target=7), CCNot(type=<Type.ccnot: 'ccnot'>, controls=[4, 5], target=8), CCNot(type=<Type.ccnot: 'ccnot'>, controls=[4, 6], target=8), CCNot(type=<Type.ccnot: 'ccnot'>, controls=[5, 6], target=8)])"
      ]
     },
     "execution_count": 28,
     "metadata": {},
     "output_type": "execute_result"
    }
   ],
   "source": [
    "full_circuit.to_ir()"
   ]
  },
  {
   "cell_type": "code",
   "execution_count": 29,
   "metadata": {},
   "outputs": [
    {
     "data": {
      "image/png": "[encoded data removed]",
      "text/plain": [
       "<Figure size 936x648 with 1 Axes>"
      ]
     },
     "metadata": {},
     "output_type": "display_data"
    }
   ],
   "source": [
    "plot_braket_circuit(full_circuit, schedule=True)"
   ]
  },
  {
   "cell_type": "code",
   "execution_count": null,
   "metadata": {},
   "outputs": [],
   "source": []
  },
  {
   "cell_type": "code",
   "execution_count": null,
   "metadata": {},
   "outputs": [],
   "source": []
  }
 ],
 "metadata": {
  "kernelspec": {
   "display_name": "conda_braket",
   "language": "python",
   "name": "conda_braket"
  },
  "language_info": {
   "codemirror_mode": {
    "name": "ipython",
    "version": 3
   },
   "file_extension": ".py",
   "mimetype": "text/x-python",
   "name": "python",
   "nbconvert_exporter": "python",
   "pygments_lexer": "ipython3",
   "version": "3.7.9"
  }
 },
 "nbformat": 4,
 "nbformat_minor": 4
}
