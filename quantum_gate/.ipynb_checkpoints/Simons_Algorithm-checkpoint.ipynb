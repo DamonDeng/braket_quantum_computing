{
 "cells": [
  {
   "cell_type": "code",
   "execution_count": 1,
   "metadata": {},
   "outputs": [],
   "source": [
    "from braket.devices import LocalSimulator\n",
    "from braket.circuits import Circuit\n",
    "import random\n",
    "import matplotlib.pyplot as plt"
   ]
  },
  {
   "cell_type": "code",
   "execution_count": 2,
   "metadata": {},
   "outputs": [],
   "source": [
    "from sympy import Matrix, pprint, MatrixSymbol, expand, mod_inverse"
   ]
  },
  {
   "cell_type": "code",
   "execution_count": 3,
   "metadata": {},
   "outputs": [],
   "source": [
    "device = LocalSimulator()"
   ]
  },
  {
   "cell_type": "code",
   "execution_count": 4,
   "metadata": {},
   "outputs": [],
   "source": [
    "def generate_oracle(secret_s):\n",
    "    \n",
    "    # validating input secret s:\n",
    "    first_1_bit_location = -1\n",
    "    other_1_bit_location_list = list()\n",
    "    \n",
    "    for index,bit_value in enumerate(secret_s):\n",
    "        if (bit_value != '0' and bit_value != '1'):\n",
    "            raise Exception ('Incorrect char \\'' + bit_value + '\\' in secret string S:' + secret_s)\n",
    "        else:\n",
    "            if (bit_value == '1'):\n",
    "                if (first_1_bit_location == -1):\n",
    "                    first_1_bit_location = index\n",
    "                else:\n",
    "                    other_1_bit_location_list.append(index)\n",
    "                \n",
    "    if (first_1_bit_location == -1):\n",
    "        raise Exception (' All 0 in secret string S')\n",
    "            \n",
    "    n = len(str(secret_s))\n",
    "    \n",
    "    oracle_circuit = Circuit()\n",
    "\n",
    "        \n",
    "    oracle_circuit.cnot(first_1_bit_location, first_1_bit_location+n)\n",
    "#     qt.cnot(first_1_bit_location, first_1_bit_location+n)\n",
    "    \n",
    "    for other_1_bit_location in other_1_bit_location_list:\n",
    "        oracle_circuit.cnot(first_1_bit_location, other_1_bit_location)\n",
    "        \n",
    "    for i in range(n):\n",
    "#         if (i != first_1_bit_location):\n",
    "        oracle_circuit.cnot(i, n+i)\n",
    "        \n",
    "    for other_1_bit_location in other_1_bit_location_list:\n",
    "        oracle_circuit.cnot(first_1_bit_location, other_1_bit_location)\n",
    "                \n",
    "    return oracle_circuit"
   ]
  },
  {
   "cell_type": "code",
   "execution_count": 5,
   "metadata": {},
   "outputs": [],
   "source": [
    "def generate_input_circuit():\n",
    "    \n",
    "    input_circuit_list = list()\n",
    "    \n",
    "    for input_index, digit_string in enumerate(source_list):\n",
    "        cur_circuit = Circuit()\n",
    "        for reg_index, digit_value in enumerate(digit_string):\n",
    "            if (digit_value == '0'):\n",
    "                cur_circuit.i(reg_index)\n",
    "            elif (digit_value == '1'):\n",
    "                cur_circuit.x(reg_index)\n",
    "            else:\n",
    "                raise Exception('incorrect input value: \\'' + digit_value + '\\' in: ' + digit_string )\n",
    "        \n",
    "        input_circuit_list.append(cur_circuit)\n",
    "        \n",
    "    return input_circuit_list"
   ]
  },
  {
   "cell_type": "code",
   "execution_count": null,
   "metadata": {},
   "outputs": [],
   "source": []
  },
  {
   "cell_type": "code",
   "execution_count": 6,
   "metadata": {},
   "outputs": [],
   "source": [
    "def generate_simon_circuit(secret_s):\n",
    "    \n",
    "    bit_number = len(secret_s)\n",
    "        \n",
    "    oracle_circuit = generate_oracle(secret_s)\n",
    "    \n",
    "    input_circuit = Circuit()\n",
    "    \n",
    "    for i in range(bit_number):\n",
    "        input_circuit.h(i)\n",
    "        \n",
    "    output_circuit = Circuit()\n",
    "    \n",
    "    for i in range(bit_number):\n",
    "        output_circuit.h(i)\n",
    "        \n",
    "    simon_circuit = input_circuit + oracle_circuit + output_circuit\n",
    "    \n",
    "    return simon_circuit\n",
    "    \n",
    "    \n",
    "    \n",
    "    "
   ]
  },
  {
   "cell_type": "code",
   "execution_count": 7,
   "metadata": {},
   "outputs": [],
   "source": [
    "def generate_full_bit_string(bit_number):\n",
    "    zero_string = '0' * bit_number\n",
    "    result_list = list()\n",
    "    for i in range(pow(2, bit_number)):\n",
    "        cur_string = (zero_string + bin(i)[2:])[-bit_number:]\n",
    "        result_list.append(cur_string)\n",
    "    return result_list"
   ]
  },
  {
   "cell_type": "code",
   "execution_count": 8,
   "metadata": {},
   "outputs": [],
   "source": [
    "def generate_random_secret_s(start=2, end=8):\n",
    "    random_bit_number = random.randint(start, end)\n",
    "    \n",
    "    secret_s_list = generate_full_bit_string(random_bit_number)[1:]\n",
    "    \n",
    "    candidate_number = len(secret_s_list)\n",
    "    \n",
    "    random_index = random.randint(0,candidate_number-1)\n",
    "    \n",
    "    selected_secret_s = secret_s_list[random_index]\n",
    "    \n",
    "    return selected_secret_s"
   ]
  },
  {
   "cell_type": "code",
   "execution_count": 9,
   "metadata": {},
   "outputs": [],
   "source": [
    "secret_s = generate_random_secret_s()"
   ]
  },
  {
   "cell_type": "code",
   "execution_count": 10,
   "metadata": {},
   "outputs": [
    {
     "data": {
      "text/plain": [
       "'00010111'"
      ]
     },
     "execution_count": 10,
     "metadata": {},
     "output_type": "execute_result"
    }
   ],
   "source": [
    "secret_s"
   ]
  },
  {
   "cell_type": "code",
   "execution_count": 11,
   "metadata": {},
   "outputs": [],
   "source": [
    "bit_number = len(secret_s)\n"
   ]
  },
  {
   "cell_type": "code",
   "execution_count": 12,
   "metadata": {},
   "outputs": [],
   "source": [
    "simon_circuit = generate_simon_circuit(secret_s)"
   ]
  },
  {
   "cell_type": "code",
   "execution_count": 13,
   "metadata": {},
   "outputs": [
    {
     "name": "stdout",
     "output_type": "stream",
     "text": [
      "Counter({'0010110100001011': 1, '0010110101100001': 1, '0101110011101111': 1, '1010001100000111': 1, '0011110010000110': 1, '0101000111000010': 1, '0100001101101111': 1, '1100111011001101': 1, '1000000001001011': 1, '0101010000100010': 1, '1001100101000010': 1, '0110000011100010': 1, '1110011011100010': 1, '1111001000000110': 1, '0100100000101111': 1, '1111001010000000': 1})\n"
     ]
    }
   ],
   "source": [
    "# run 2 * bit_number times to get the y output\n",
    "# according to Simon's algorithm, we only need bit_number-1 independent y to caculate s\n",
    "# in real world, we may get y with all zeros or dependent y, \n",
    "# running bit_number-1 time is not enough to get bit_number-1 independent y\n",
    "# so we run 2 * bit_number times to generate y, \n",
    "# the complexity is O(2*bit_number), which is still O(bit_number), aka O(n)\n",
    "\n",
    "task = device.run(simon_circuit, shots=bit_number*2)\n",
    "result = task.result()\n",
    "print (result.measurement_counts)"
   ]
  },
  {
   "cell_type": "code",
   "execution_count": 14,
   "metadata": {},
   "outputs": [
    {
     "name": "stdout",
     "output_type": "stream",
     "text": [
      "measurement_of_input_registers: {'00101101': 2, '01011100': 1, '10100011': 1, '00111100': 1, '01010001': 1, '01000011': 1, '11001110': 1, '10000000': 1, '01010100': 1, '10011001': 1, '01100000': 1, '11100110': 1, '11110010': 2, '01001000': 1}\n",
      "\n"
     ]
    },
    {
     "data": {
      "image/png": "[encoded data removed]",
      "text/plain": [
       "<Figure size 432x288 with 1 Axes>"
      ]
     },
     "metadata": {
      "needs_background": "light"
     },
     "output_type": "display_data"
    }
   ],
   "source": [
    "# Simulate partial measurement by seperating out first n bits\n",
    "answer_plot = {}\n",
    "for measresult in result.measurement_counts.keys():\n",
    "    measresult_input = measresult[:bit_number]\n",
    "    if measresult_input in answer_plot:\n",
    "        answer_plot[measresult_input] += result.measurement_counts[measresult]\n",
    "    else:\n",
    "        answer_plot[measresult_input] = result.measurement_counts[measresult] \n",
    "\n",
    "print(f\"measurement_of_input_registers: {answer_plot}\\n\")\n",
    "plt.bar(answer_plot.keys(), answer_plot.values())\n",
    "plt.show()"
   ]
  },
  {
   "cell_type": "code",
   "execution_count": 15,
   "metadata": {},
   "outputs": [
    {
     "name": "stdout",
     "output_type": "stream",
     "text": [
      "The output we got:\n",
      "[0, 0, 1, 0, 1, 1, 0, 1]\n",
      "[0, 1, 0, 1, 1, 1, 0, 0]\n",
      "[1, 0, 1, 0, 0, 0, 1, 1]\n",
      "[0, 0, 1, 1, 1, 1, 0, 0]\n",
      "[0, 1, 0, 1, 0, 0, 0, 1]\n",
      "[0, 1, 0, 0, 0, 0, 1, 1]\n",
      "[1, 1, 0, 0, 1, 1, 1, 0]\n",
      "[1, 0, 0, 0, 0, 0, 0, 0]\n",
      "[0, 1, 0, 1, 0, 1, 0, 0]\n",
      "[1, 0, 0, 1, 1, 0, 0, 1]\n",
      "[0, 1, 1, 0, 0, 0, 0, 0]\n",
      "[1, 1, 1, 0, 0, 1, 1, 0]\n",
      "[1, 1, 1, 1, 0, 0, 1, 0]\n",
      "[0, 1, 0, 0, 1, 0, 0, 0]\n"
     ]
    }
   ],
   "source": [
    "lAnswer = [ (k,v) for k,v in answer_plot.items() if k != \"0\"*bit_number  ] #excluding the trivial all-zero\n",
    "Y = []\n",
    "for k, v in lAnswer:\n",
    "    Y.append( [ int(c) for c in k ] )\n",
    "    \n",
    "print('The output we got:')\n",
    "for a in Y:\n",
    "    print (a)"
   ]
  },
  {
   "cell_type": "code",
   "execution_count": 16,
   "metadata": {},
   "outputs": [],
   "source": [
    "def mod(x,modulus):\n",
    "    numer, denom = x.as_numer_denom()\n",
    "    return numer*mod_inverse(denom,modulus) % modulus"
   ]
  },
  {
   "cell_type": "code",
   "execution_count": 17,
   "metadata": {},
   "outputs": [
    {
     "name": "stdout",
     "output_type": "stream",
     "text": [
      "Matrix([[1, 0, 0, 0, 0, 0, 0, 0]])\n",
      "Matrix([[0, 1, 0, 0, 0, 0, 0, 0]])\n",
      "Matrix([[0, 0, 1, 0, 0, 0, 0, 0]])\n",
      "Matrix([[0, 0, 0, 1, 0, 0, 0, 1]])\n",
      "Matrix([[0, 0, 0, 0, 1, 0, 0, 0]])\n",
      "Matrix([[0, 0, 0, 0, 0, 1, 0, 1]])\n",
      "Matrix([[0, 0, 0, 0, 0, 0, 1, 1]])\n",
      "Matrix([[0, 0, 0, 0, 0, 0, 0, 0]])\n",
      "Matrix([[0, 0, 0, 0, 0, 0, 0, 0]])\n",
      "Matrix([[0, 0, 0, 0, 0, 0, 0, 0]])\n",
      "Matrix([[0, 0, 0, 0, 0, 0, 0, 0]])\n",
      "Matrix([[0, 0, 0, 0, 0, 0, 0, 0]])\n",
      "Matrix([[0, 0, 0, 0, 0, 0, 0, 0]])\n",
      "Matrix([[0, 0, 0, 0, 0, 0, 0, 0]])\n"
     ]
    }
   ],
   "source": [
    "Y = Matrix(Y)\n",
    "Y_transformed = Y.rref(iszerofunc=lambda x: x % 2==0)\n",
    "Y_new = Y_transformed[0].applyfunc(lambda x: mod(x,2)) #must takecare of negatives and fractional values\n",
    "for row_index in range(Y_new.shape[0]):\n",
    "    print (Y_new.row(row_index))"
   ]
  },
  {
   "cell_type": "code",
   "execution_count": null,
   "metadata": {},
   "outputs": [],
   "source": []
  },
  {
   "cell_type": "code",
   "execution_count": 18,
   "metadata": {},
   "outputs": [
    {
     "name": "stdout",
     "output_type": "stream",
     "text": [
      "The hidden bistring s[ 0 ], s[ 1 ]....s[ 7 ] is the one satisfying the following system of linear equations:\n",
      "s[0] = 0\n",
      "s[1] = 0\n",
      "s[2] = 0\n",
      "s[ 3 ] + s[ 7 ] = 0\n",
      "s[4] = 0\n",
      "s[ 5 ] + s[ 7 ] = 0\n",
      "s[ 6 ] + s[ 7 ] = 0\n",
      "\n",
      "Which is:  00010111\n"
     ]
    }
   ],
   "source": [
    "print(\"The hidden bistring s[ 0 ], s[ 1 ]....s[\",bit_number-1,\"] is the one satisfying the following system of linear equations:\")\n",
    "rows, cols = Y_new.shape\n",
    "result_s = ['0']*bit_number\n",
    "for r in range(rows):\n",
    "    \n",
    "    location_list = list()\n",
    "    for i,v in enumerate(list(Y_new[r,:])):\n",
    "        if (v == 1):\n",
    "            location_list.append(i)\n",
    "            \n",
    "    if (len(location_list) == 1):\n",
    "        print ('s[' + str(location_list[0]) +'] = 0')\n",
    "    elif (len(location_list) > 1):\n",
    "        for location in location_list:\n",
    "            result_s[location] = '1'\n",
    "        Yr = [ \"s[ \"+str(location)+\" ]\" for location in location_list ]\n",
    "        tStr = \" + \".join(Yr)\n",
    "        print(tStr, \"= 0\")\n",
    "        \n",
    "result_s = ''.join(result_s)\n",
    "\n",
    "print()\n",
    "print ('Which is:  ' + result_s)"
   ]
  },
  {
   "cell_type": "code",
   "execution_count": null,
   "metadata": {},
   "outputs": [],
   "source": []
  },
  {
   "cell_type": "code",
   "execution_count": 19,
   "metadata": {},
   "outputs": [
    {
     "name": "stdout",
     "output_type": "stream",
     "text": [
      "We found the answer\n",
      "\tsecret string:00010111\n",
      "\tresult string:00010111\n"
     ]
    }
   ],
   "source": [
    "# check whether result_s is equal to secret_s:\n",
    "\n",
    "if (result_s == secret_s):\n",
    "    print ('We found the answer')\n",
    "    print ('\\tsecret string:' + secret_s)\n",
    "    print ('\\tresult string:' + result_s)\n",
    "else:\n",
    "    print ('Error, the answer is wrong')"
   ]
  },
  {
   "cell_type": "code",
   "execution_count": null,
   "metadata": {},
   "outputs": [],
   "source": []
  },
  {
   "cell_type": "code",
   "execution_count": null,
   "metadata": {},
   "outputs": [],
   "source": []
  },
  {
   "cell_type": "code",
   "execution_count": null,
   "metadata": {},
   "outputs": [],
   "source": []
  }
 ],
 "metadata": {
  "kernelspec": {
   "display_name": "conda_braket",
   "language": "python",
   "name": "conda_braket"
  },
  "language_info": {
   "codemirror_mode": {
    "name": "ipython",
    "version": 3
   },
   "file_extension": ".py",
   "mimetype": "text/x-python",
   "name": "python",
   "nbconvert_exporter": "python",
   "pygments_lexer": "ipython3",
   "version": "3.7.9"
  }
 },
 "nbformat": 4,
 "nbformat_minor": 4
}
