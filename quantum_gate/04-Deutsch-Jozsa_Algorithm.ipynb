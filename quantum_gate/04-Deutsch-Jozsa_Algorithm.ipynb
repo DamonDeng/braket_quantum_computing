{
 "cells": [
  {
   "cell_type": "markdown",
   "metadata": {},
   "source": [
    "# Deutsch-Jozsa Algorithm\n",
    "\n",
    "## Problem statement:\n",
    "\n",
    "In the Deutsch–Jozsa problem, we are given a black box quantum computer known as an oracle that implements some function \n",
    "\n",
    "$$f(\\{0,1\\}^{n} = \\{0,1\\})$$\n",
    "\n",
    "The function takes n-digit binary values as input and produces either a 0 or a 1 as output for each such value. We are promised that the function is either constant or balanced:\n",
    "+ constant (0 on all outputs or 1 on all outputs) \n",
    "+ balanced (returns 1 for half of the input domain and 0 for the other half).\n",
    "\n",
    "The task then is to determine if f is constant or balanced by using the oracle.\n"
   ]
  },
  {
   "cell_type": "markdown",
   "metadata": {},
   "source": [
    "### Example:\n",
    "\n",
    "For example, if $n = 3$, then the following functions are examples of constant function and balance function:\n",
    "\n",
    "|$x$|   $$f(x)$$ constant|   $$f(x)$$ constant|   $$f(x)$$ balance|   $$f(x)$$ balance|   $$f(x)$$ balance|\n",
    "|---|------|------|------|------|------|\n",
    "|000|\t0|\t1|\t1|\t1|\t1|\n",
    "|001|\t0|\t1|\t1|\t1|\t0|\n",
    "|010|\t0|\t1|\t1|\t0|\t1|\n",
    "|011|\t0|\t1|\t1|\t0|\t0|\n",
    "|100|\t0|\t1|\t0|\t1|\t1|\n",
    "|101|\t0|\t1|\t0|\t1|\t0|\n",
    "|110|\t0|\t1|\t0|\t0|\t1|\n",
    "|111|\t0|\t1|\t0|\t0|\t0|\n",
    "\n"
   ]
  },
  {
   "cell_type": "code",
   "execution_count": 1,
   "metadata": {},
   "outputs": [],
   "source": [
    "from braket.devices import LocalSimulator\n",
    "from braket.circuits import Circuit\n",
    "import random\n",
    "import matplotlib.pyplot as plt"
   ]
  },
  {
   "cell_type": "code",
   "execution_count": 2,
   "metadata": {},
   "outputs": [],
   "source": [
    "# define the quantum device.\n",
    "# use LocalSimulator so that it can be run locally with Braket SDK installed.\n",
    "device = LocalSimulator()"
   ]
  },
  {
   "cell_type": "code",
   "execution_count": 3,
   "metadata": {},
   "outputs": [],
   "source": [
    "# define a simple function to generate random 0 or 1, 0 stands for constant function , 1 stands for balance function\n",
    "\n",
    "def get_function_type():\n",
    "    random_value = random.random()\n",
    "    if random_value < 0.5:\n",
    "        return 0\n",
    "    else:\n",
    "        return 1"
   ]
  },
  {
   "cell_type": "code",
   "execution_count": 4,
   "metadata": {},
   "outputs": [],
   "source": [
    "# define a simple function to generate random n, n is from 1 to 8\n",
    "\n",
    "def get_bit_number():\n",
    "    return random.randint(1,8)"
   ]
  },
  {
   "cell_type": "code",
   "execution_count": 5,
   "metadata": {},
   "outputs": [
    {
     "data": {
      "text/plain": [
       "6"
      ]
     },
     "execution_count": 5,
     "metadata": {},
     "output_type": "execute_result"
    }
   ],
   "source": [
    "# use get_bit_number to generate random bit number\n",
    "# bit_number = get_bit_number()\n",
    "\n",
    "# for testing, set the bit_number to 6\n",
    "bit_number = 6\n",
    "bit_number"
   ]
  },
  {
   "cell_type": "code",
   "execution_count": 6,
   "metadata": {},
   "outputs": [],
   "source": [
    "def generate_full_bit_string(bit_number):\n",
    "    zero_string = '0' * bit_number\n",
    "    result_list = list()\n",
    "    for i in range(pow(2, bit_number)):\n",
    "        cur_string = (zero_string + bin(i)[2:])[-bit_number:]\n",
    "        result_list.append(cur_string)\n",
    "    return result_list"
   ]
  },
  {
   "cell_type": "code",
   "execution_count": 7,
   "metadata": {},
   "outputs": [],
   "source": [
    "full_bit_strings = generate_full_bit_string(bit_number)"
   ]
  },
  {
   "cell_type": "code",
   "execution_count": 8,
   "metadata": {},
   "outputs": [],
   "source": [
    "def generate_input_circuit(source_list):\n",
    "    \n",
    "    input_circuit_list = list()\n",
    "    \n",
    "    for input_index, digit_string in enumerate(source_list):\n",
    "        cur_circuit = Circuit()\n",
    "        for reg_index, digit_value in enumerate(digit_string):\n",
    "            if (digit_value == '0'):\n",
    "                cur_circuit.i(reg_index)\n",
    "            elif (digit_value == '1'):\n",
    "                cur_circuit.x(reg_index)\n",
    "            else:\n",
    "                raise Exception('incorrect input value: \\'' + digit_value + '\\' in: ' + digit_string )\n",
    "        \n",
    "        input_circuit_list.append(cur_circuit)\n",
    "        \n",
    "    return input_circuit_list"
   ]
  },
  {
   "cell_type": "code",
   "execution_count": 9,
   "metadata": {},
   "outputs": [],
   "source": [
    "input_circuit_list = generate_input_circuit(full_bit_strings)"
   ]
  },
  {
   "cell_type": "code",
   "execution_count": 10,
   "metadata": {},
   "outputs": [],
   "source": [
    "# generate black box circuit for constant function\n",
    "\n",
    "def generate_constant_function(bit_number):\n",
    "    circuit = Circuit()\n",
    "    # insert i gate for each of the input qbit, as many circuit compliers require continued qbit\n",
    "    for i in range(bit_number):\n",
    "        circuit.i(i)\n",
    "        \n",
    "    # building output qbit for the function\n",
    "    # functions generating ouput 0 or 1 constantly are constant functions\n",
    "    if random.random() < 0.5:\n",
    "        circuit.i(bit_number)\n",
    "    else:\n",
    "        circuit.x(bit_number)\n",
    "        \n",
    "    return circuit"
   ]
  },
  {
   "cell_type": "code",
   "execution_count": 11,
   "metadata": {},
   "outputs": [
    {
     "name": "stdout",
     "output_type": "stream",
     "text": [
      "T  : |0|\n",
      "        \n",
      "q0 : -I-\n",
      "        \n",
      "q1 : -I-\n",
      "        \n",
      "q2 : -I-\n",
      "        \n",
      "q3 : -I-\n",
      "        \n",
      "q4 : -I-\n",
      "        \n",
      "q5 : -I-\n",
      "        \n",
      "q6 : -X-\n",
      "\n",
      "T  : |0|\n"
     ]
    }
   ],
   "source": [
    "# testing the generated constant function \n",
    "constant_circuit = generate_constant_function(bit_number)\n",
    "print(constant_circuit)"
   ]
  },
  {
   "cell_type": "code",
   "execution_count": 12,
   "metadata": {},
   "outputs": [],
   "source": [
    "# generate black box circuit for balance function\n",
    "\n",
    "def generate_balance_function(bit_number):\n",
    "    circuit = Circuit()\n",
    "    # insert i gate for each of the input qbit, as many circuit compliers require continued qbit\n",
    "    for i in range(bit_number):\n",
    "        circuit.i(i)\n",
    "        \n",
    "    # randomly select one qbit from input as the flag.\n",
    "    # use cnot gate to connect the flag qbit and output qbit\n",
    "    # if the input value of the flag qbit is 0, the output is 0\n",
    "    # if the input value of the flag qbit is 1, the output qbit will be fliped to 1.\n",
    "    control_bit_index = random.randint(0, bit_number-1)\n",
    "        \n",
    "    circuit.cnot(control_bit_index, bit_number)\n",
    "        \n",
    "    return circuit"
   ]
  },
  {
   "cell_type": "code",
   "execution_count": 13,
   "metadata": {},
   "outputs": [
    {
     "name": "stdout",
     "output_type": "stream",
     "text": [
      "T  : |0|1|\n",
      "          \n",
      "q0 : -I---\n",
      "          \n",
      "q1 : -I---\n",
      "          \n",
      "q2 : -I---\n",
      "          \n",
      "q3 : -I-C-\n",
      "        | \n",
      "q4 : -I-|-\n",
      "        | \n",
      "q5 : -I-|-\n",
      "        | \n",
      "q6 : ---X-\n",
      "\n",
      "T  : |0|1|\n"
     ]
    }
   ],
   "source": [
    "# testing the generated constant function \n",
    "balance_circuit = generate_balance_function(bit_number)\n",
    "print(balance_circuit)"
   ]
  },
  {
   "cell_type": "code",
   "execution_count": null,
   "metadata": {},
   "outputs": [],
   "source": []
  },
  {
   "cell_type": "code",
   "execution_count": 14,
   "metadata": {},
   "outputs": [],
   "source": [
    "def check_balance_function(bit_number, balance_circuit):\n",
    "    shot_number = 1000\n",
    "    threshold = 0.8\n",
    "    \n",
    "    full_bit_strings = generate_full_bit_string(bit_number)\n",
    "    \n",
    "    input_circuit_list = generate_input_circuit(full_bit_strings)\n",
    "    \n",
    "    result_statistics = dict()\n",
    "    result_statistics['0'] = 0\n",
    "    result_statistics['1'] = 0\n",
    "\n",
    "\n",
    "    for input_string, input_circuit in zip(full_bit_strings, input_circuit_list):\n",
    "\n",
    "        circuit = input_circuit + balance_circuit\n",
    "\n",
    "        task = device.run(circuit, shots=shot_number)\n",
    "        result = task.result()\n",
    "        \n",
    "        result_key_list = result.measurement_counts.keys()\n",
    "        result_number = len(result_key_list)\n",
    "        \n",
    "        result_item = result.measurement_counts.most_common(1)[0]\n",
    "        \n",
    "        \n",
    "        result_string = result_item[0]\n",
    "        result_times = result_item[1]\n",
    "        \n",
    "        if (result_times/shot_number < threshold):\n",
    "            raise Exception('Result for ' + input_string + ' is not stable.')\n",
    "        else:\n",
    "            \n",
    "            result_statistics[result_string[-1:]] = result_statistics[result_string[-1:]] + 1\n",
    "            \n",
    "           \n",
    "    expect_total_number = pow(2, bit_number)\n",
    "    \n",
    "    if result_statistics['0'] == result_statistics['1'] == expect_total_number/2:\n",
    "        return True\n",
    "    else:\n",
    "        return False\n",
    "    \n",
    "            \n",
    "        "
   ]
  },
  {
   "cell_type": "code",
   "execution_count": 15,
   "metadata": {},
   "outputs": [
    {
     "data": {
      "text/plain": [
       "True"
      ]
     },
     "execution_count": 15,
     "metadata": {},
     "output_type": "execute_result"
    }
   ],
   "source": [
    "check_balance_function(bit_number, balance_circuit)"
   ]
  },
  {
   "cell_type": "code",
   "execution_count": 16,
   "metadata": {},
   "outputs": [],
   "source": [
    "def get_random_function(bit_number):\n",
    "    random_value = random.random()\n",
    "    if random_value < 0.5:\n",
    "        return ('constant', generate_constant_function(bit_number))\n",
    "    else:\n",
    "        return ('balance', generate_balance_function(bit_number))"
   ]
  },
  {
   "cell_type": "code",
   "execution_count": 17,
   "metadata": {},
   "outputs": [],
   "source": [
    "def generate_deutsch_circuit(bit_number, secret_function):\n",
    "    \n",
    "    input_circuit = Circuit()\n",
    "    \n",
    "    input_circuit.x(bit_number)\n",
    "    \n",
    "    for i in range(bit_number+1):\n",
    "        input_circuit.h(i)\n",
    "        \n",
    "    combine_circuit = input_circuit + secret_function\n",
    "    \n",
    "    for i in range(bit_number):\n",
    "        combine_circuit.h(i)\n",
    "        \n",
    "    return combine_circuit\n"
   ]
  },
  {
   "cell_type": "code",
   "execution_count": 18,
   "metadata": {},
   "outputs": [],
   "source": [
    "def check_function_type(bit_number, secret_circuit):\n",
    "    deutsch_circuit = generate_deutsch_circuit(bit_number, secret_circuit)\n",
    "    shot_number = 1\n",
    "\n",
    "    task = device.run(deutsch_circuit, shots=shot_number)\n",
    "    result = task.result()\n",
    "\n",
    "    result_value = int(list(result.measurement_counts.keys())[0][0:-1])\n",
    "\n",
    "    if result_value > 0:\n",
    "        return ('balance', result_value)\n",
    "    elif result_value == 0:\n",
    "        return ('constant', result_value)\n",
    "\n",
    "\n",
    "    \n"
   ]
  },
  {
   "cell_type": "code",
   "execution_count": 19,
   "metadata": {},
   "outputs": [
    {
     "data": {
      "text/plain": [
       "('constant', 0)"
      ]
     },
     "execution_count": 19,
     "metadata": {},
     "output_type": "execute_result"
    }
   ],
   "source": [
    "check_function_type(bit_number, constant_circuit)"
   ]
  },
  {
   "cell_type": "code",
   "execution_count": 20,
   "metadata": {},
   "outputs": [
    {
     "data": {
      "text/plain": [
       "('balance', 100)"
      ]
     },
     "execution_count": 20,
     "metadata": {},
     "output_type": "execute_result"
    }
   ],
   "source": [
    "check_function_type(bit_number, balance_circuit)"
   ]
  },
  {
   "cell_type": "code",
   "execution_count": 21,
   "metadata": {
    "scrolled": false
   },
   "outputs": [
    {
     "name": "stdout",
     "output_type": "stream",
     "text": [
      "Bit number:2\n",
      "Answer is right\n",
      "Function type generated: \t\tbalance\n",
      "Checked result is: \t\t\tbalance\n",
      "-------------------------------------\n",
      "Bit number:2\n",
      "Answer is right\n",
      "Function type generated: \t\tbalance\n",
      "Checked result is: \t\t\tbalance\n",
      "-------------------------------------\n",
      "Bit number:8\n",
      "Answer is right\n",
      "Function type generated: \t\tbalance\n",
      "Checked result is: \t\t\tbalance\n",
      "-------------------------------------\n",
      "Bit number:7\n",
      "Answer is right\n",
      "Function type generated: \t\tconstant\n",
      "Checked result is: \t\t\tconstant\n",
      "-------------------------------------\n",
      "Bit number:2\n",
      "Answer is right\n",
      "Function type generated: \t\tconstant\n",
      "Checked result is: \t\t\tconstant\n",
      "-------------------------------------\n",
      "Bit number:6\n",
      "Answer is right\n",
      "Function type generated: \t\tbalance\n",
      "Checked result is: \t\t\tbalance\n",
      "-------------------------------------\n",
      "Bit number:2\n",
      "Answer is right\n",
      "Function type generated: \t\tconstant\n",
      "Checked result is: \t\t\tconstant\n",
      "-------------------------------------\n",
      "Bit number:5\n",
      "Answer is right\n",
      "Function type generated: \t\tbalance\n",
      "Checked result is: \t\t\tbalance\n",
      "-------------------------------------\n",
      "Bit number:1\n",
      "Answer is right\n",
      "Function type generated: \t\tconstant\n",
      "Checked result is: \t\t\tconstant\n",
      "-------------------------------------\n",
      "Bit number:1\n",
      "Answer is right\n",
      "Function type generated: \t\tbalance\n",
      "Checked result is: \t\t\tbalance\n",
      "-------------------------------------\n",
      "Bit number:6\n",
      "Answer is right\n",
      "Function type generated: \t\tbalance\n",
      "Checked result is: \t\t\tbalance\n",
      "-------------------------------------\n",
      "Bit number:1\n",
      "Answer is right\n",
      "Function type generated: \t\tconstant\n",
      "Checked result is: \t\t\tconstant\n",
      "-------------------------------------\n",
      "Bit number:1\n",
      "Answer is right\n",
      "Function type generated: \t\tbalance\n",
      "Checked result is: \t\t\tbalance\n",
      "-------------------------------------\n",
      "Bit number:5\n",
      "Answer is right\n",
      "Function type generated: \t\tbalance\n",
      "Checked result is: \t\t\tbalance\n",
      "-------------------------------------\n",
      "Bit number:4\n",
      "Answer is right\n",
      "Function type generated: \t\tbalance\n",
      "Checked result is: \t\t\tbalance\n",
      "-------------------------------------\n",
      "Bit number:4\n",
      "Answer is right\n",
      "Function type generated: \t\tbalance\n",
      "Checked result is: \t\t\tbalance\n",
      "-------------------------------------\n",
      "Bit number:6\n",
      "Answer is right\n",
      "Function type generated: \t\tconstant\n",
      "Checked result is: \t\t\tconstant\n",
      "-------------------------------------\n",
      "Bit number:4\n",
      "Answer is right\n",
      "Function type generated: \t\tbalance\n",
      "Checked result is: \t\t\tbalance\n",
      "-------------------------------------\n",
      "Bit number:8\n",
      "Answer is right\n",
      "Function type generated: \t\tbalance\n",
      "Checked result is: \t\t\tbalance\n",
      "-------------------------------------\n",
      "Bit number:1\n",
      "Answer is right\n",
      "Function type generated: \t\tbalance\n",
      "Checked result is: \t\t\tbalance\n",
      "-------------------------------------\n",
      "Bit number:1\n",
      "Answer is right\n",
      "Function type generated: \t\tbalance\n",
      "Checked result is: \t\t\tbalance\n",
      "-------------------------------------\n",
      "Bit number:6\n",
      "Answer is right\n",
      "Function type generated: \t\tbalance\n",
      "Checked result is: \t\t\tbalance\n",
      "-------------------------------------\n",
      "Bit number:4\n",
      "Answer is right\n",
      "Function type generated: \t\tbalance\n",
      "Checked result is: \t\t\tbalance\n",
      "-------------------------------------\n",
      "Bit number:7\n",
      "Answer is right\n",
      "Function type generated: \t\tconstant\n",
      "Checked result is: \t\t\tconstant\n",
      "-------------------------------------\n",
      "Bit number:8\n",
      "Answer is right\n",
      "Function type generated: \t\tconstant\n",
      "Checked result is: \t\t\tconstant\n",
      "-------------------------------------\n",
      "Bit number:4\n",
      "Answer is right\n",
      "Function type generated: \t\tbalance\n",
      "Checked result is: \t\t\tbalance\n",
      "-------------------------------------\n",
      "Bit number:1\n",
      "Answer is right\n",
      "Function type generated: \t\tbalance\n",
      "Checked result is: \t\t\tbalance\n",
      "-------------------------------------\n",
      "Bit number:1\n",
      "Answer is right\n",
      "Function type generated: \t\tconstant\n",
      "Checked result is: \t\t\tconstant\n",
      "-------------------------------------\n",
      "Bit number:1\n",
      "Answer is right\n",
      "Function type generated: \t\tconstant\n",
      "Checked result is: \t\t\tconstant\n",
      "-------------------------------------\n",
      "Bit number:2\n",
      "Answer is right\n",
      "Function type generated: \t\tbalance\n",
      "Checked result is: \t\t\tbalance\n",
      "-------------------------------------\n",
      "Bit number:6\n",
      "Answer is right\n",
      "Function type generated: \t\tbalance\n",
      "Checked result is: \t\t\tbalance\n",
      "-------------------------------------\n",
      "Bit number:3\n",
      "Answer is right\n",
      "Function type generated: \t\tbalance\n",
      "Checked result is: \t\t\tbalance\n",
      "-------------------------------------\n",
      "Bit number:3\n",
      "Answer is right\n",
      "Function type generated: \t\tbalance\n",
      "Checked result is: \t\t\tbalance\n",
      "-------------------------------------\n",
      "Bit number:8\n",
      "Answer is right\n",
      "Function type generated: \t\tconstant\n",
      "Checked result is: \t\t\tconstant\n",
      "-------------------------------------\n",
      "Bit number:6\n",
      "Answer is right\n",
      "Function type generated: \t\tconstant\n",
      "Checked result is: \t\t\tconstant\n",
      "-------------------------------------\n",
      "Bit number:6\n",
      "Answer is right\n",
      "Function type generated: \t\tconstant\n",
      "Checked result is: \t\t\tconstant\n",
      "-------------------------------------\n",
      "Bit number:4\n",
      "Answer is right\n",
      "Function type generated: \t\tbalance\n",
      "Checked result is: \t\t\tbalance\n",
      "-------------------------------------\n",
      "Bit number:8\n",
      "Answer is right\n",
      "Function type generated: \t\tbalance\n",
      "Checked result is: \t\t\tbalance\n",
      "-------------------------------------\n",
      "Bit number:2\n",
      "Answer is right\n",
      "Function type generated: \t\tbalance\n",
      "Checked result is: \t\t\tbalance\n",
      "-------------------------------------\n",
      "Bit number:3\n",
      "Answer is right\n",
      "Function type generated: \t\tconstant\n",
      "Checked result is: \t\t\tconstant\n",
      "-------------------------------------\n",
      "Bit number:4\n",
      "Answer is right\n",
      "Function type generated: \t\tbalance\n",
      "Checked result is: \t\t\tbalance\n",
      "-------------------------------------\n",
      "Bit number:3\n",
      "Answer is right\n",
      "Function type generated: \t\tconstant\n",
      "Checked result is: \t\t\tconstant\n",
      "-------------------------------------\n",
      "Bit number:4\n",
      "Answer is right\n",
      "Function type generated: \t\tbalance\n",
      "Checked result is: \t\t\tbalance\n",
      "-------------------------------------\n",
      "Bit number:5\n",
      "Answer is right\n",
      "Function type generated: \t\tbalance\n",
      "Checked result is: \t\t\tbalance\n",
      "-------------------------------------\n",
      "Bit number:8\n",
      "Answer is right\n",
      "Function type generated: \t\tbalance\n",
      "Checked result is: \t\t\tbalance\n",
      "-------------------------------------\n",
      "Bit number:4\n",
      "Answer is right\n",
      "Function type generated: \t\tconstant\n",
      "Checked result is: \t\t\tconstant\n",
      "-------------------------------------\n",
      "Bit number:3\n",
      "Answer is right\n",
      "Function type generated: \t\tbalance\n",
      "Checked result is: \t\t\tbalance\n",
      "-------------------------------------\n",
      "Bit number:4\n",
      "Answer is right\n",
      "Function type generated: \t\tbalance\n",
      "Checked result is: \t\t\tbalance\n",
      "-------------------------------------\n",
      "Bit number:1\n",
      "Answer is right\n",
      "Function type generated: \t\tbalance\n",
      "Checked result is: \t\t\tbalance\n",
      "-------------------------------------\n",
      "Bit number:7\n",
      "Answer is right\n",
      "Function type generated: \t\tconstant\n",
      "Checked result is: \t\t\tconstant\n",
      "-------------------------------------\n"
     ]
    }
   ],
   "source": [
    "iter_number = 50\n",
    "\n",
    "for i in range(iter_number):\n",
    "    bit_number = get_bit_number()\n",
    "    function_type, secret_circuit = get_random_function(bit_number)\n",
    "    \n",
    "    detected_function_type, result_value = check_function_type(bit_number, secret_circuit)\n",
    "    \n",
    "    if (function_type == detected_function_type):\n",
    "        print ('Bit number:' + str(bit_number))\n",
    "        print ('Answer is right')\n",
    "        print ('Function type generated: \\t\\t' + function_type)\n",
    "        print ('Checked result is: \\t\\t\\t' + detected_function_type)\n",
    "        print ('-------------------------------------')\n",
    "        "
   ]
  },
  {
   "cell_type": "code",
   "execution_count": null,
   "metadata": {},
   "outputs": [],
   "source": []
  },
  {
   "cell_type": "code",
   "execution_count": null,
   "metadata": {},
   "outputs": [],
   "source": []
  },
  {
   "cell_type": "code",
   "execution_count": null,
   "metadata": {},
   "outputs": [],
   "source": []
  }
 ],
 "metadata": {
  "kernelspec": {
   "display_name": "conda_braket",
   "language": "python",
   "name": "conda_braket"
  },
  "language_info": {
   "codemirror_mode": {
    "name": "ipython",
    "version": 3
   },
   "file_extension": ".py",
   "mimetype": "text/x-python",
   "name": "python",
   "nbconvert_exporter": "python",
   "pygments_lexer": "ipython3",
   "version": "3.7.9"
  }
 },
 "nbformat": 4,
 "nbformat_minor": 2
}
