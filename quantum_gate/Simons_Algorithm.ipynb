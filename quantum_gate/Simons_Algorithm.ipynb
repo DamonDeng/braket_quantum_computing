{
 "cells": [
  {
   "cell_type": "markdown",
   "metadata": {},
   "source": [
    "# Simon's Algorithm\n",
    "\n",
    "## Problem statement:\n",
    "\n",
    "Given: a function $f$ acting on bit strings $f:\\{0,1\\}^n \\rightarrow \\{0,1\\}^n$ and a promise that $f(x)=f(x \\oplus s)$ for all $x$ (addition mod 2). The goal is to use Simon's algorithm to find the unknown string $s$.\n",
    "\n",
    "\n"
   ]
  },
  {
   "cell_type": "markdown",
   "metadata": {},
   "source": [
    "### Example:\n",
    "\n",
    "For example, if $n = 3$, then the following function is an example of a function that satisfies the required and just mentioned property:\n",
    "\n",
    "|$x$|   $$f(x)$$|\n",
    "|---|------|\n",
    "|000|\t101|\n",
    "|001|\t010|\n",
    "|010|\t000|\n",
    "|011|\t110|\n",
    "|100|\t000|\n",
    "|101|\t110|\n",
    "|110|\t101|\n",
    "|111|\t010|\n",
    "\n"
   ]
  },
  {
   "cell_type": "markdown",
   "metadata": {},
   "source": [
    "Given $f$ is a two-to-one function i.e. it maps exactly two inputs to every unique output, and we find 2 values of input $x$ that have the same output, $f(x_1)=f(x_2)$ then it is guaranteed that $x_1 \\oplus x_2 = s$\n",
    "\n",
    "For example, the input strings $011$ and $101$ are both mapped by $f$ to the same output string $110$. If we XOR $011$ and $101$ we obtain $s$, that is:\n",
    "\n",
    "$$011 \\oplus 101 = 110$$\n",
    "\n",
    "so for this example $s = 110$"
   ]
  },
  {
   "cell_type": "markdown",
   "metadata": {},
   "source": [
    "## Problem hardness\n",
    "\n",
    "To solve this classically, you need to find two different inputs $x$ and $y$ for which $f(x)=f(y)$. Given $f$ is a blackbox, we can discover something about $f$ (or what it does) only when, for two different inputs, we obtain the same output. In any case, we would need to guess $ \\Omega ({\\sqrt {2^{n}}})$ different inputs before being likely to find a pair on which $f$ takes the same output."
   ]
  },
  {
   "cell_type": "markdown",
   "metadata": {},
   "source": [
    "## Simon's Algorithm\n",
    "\n",
    "The high-level idea behind Simon's algorithm is to \"probe\" a quantum circuit \"enough times\" to find $n-1$ (linearly independent) n-bit strings, that is\n",
    "\n",
    "$$ y_{1},y_{2},\\dots ,y_{n-1}\\in \\{0,1\\}^{n} $$\n",
    "\n",
    "such that the following equations are satisfied\n",
    "\n",
    "$$ \\begin{aligned}y_{1}\\cdot s&=0\\\\y_{2}\\cdot s&=0\\\\&\\,\\,\\,\\vdots \\\\y_{n-1}\\cdot s&=0\\end{aligned}$$ \n",
    "\n",
    "\n",
    "where $ y_{i}\\cdot s$ is the modulo-2 dot product; that is, $ y_{i}\\cdot s=y_{i1}s_{1}\\oplus y_{i2}s_{2}\\oplus \\dots \\oplus y_{in}s_{n} $\n",
    "\n",
    "So, this linear system contains $n-1$ linear equations in $n$ unknowns (i.e. the bits of $s$, and the goal is to solve it to obtain $s$, and $s$ is fixed for a given function $f$.\n",
    "\n",
    "\n",
    "### Simon's quantum circuit\n",
    "\n",
    "The quantum circuit below is the implementation (and visualization) of the quantum part of Simon's algorithm.\n",
    "\n",
    "<img src=\"https://upload.wikimedia.org/wikipedia/commons/f/fb/Simons_algorithm.svg\"/>\n",
    "\n",
    "The circuit acts on $2n$ qubits (where $n$ is the length of the bit string in question (i.e., $n=3$ for our example). Apply a Hadamard gate to the first $n$ qubits, then apply $U_f$ - which is an oracle (or \"black box\"), which knows how to compute $f$ , then apply a Hadamard gate to the first $n$ qubits.\n",
    "\n",
    "For more details on Simon's algorithm refer to [Wikipedia](<https://en.wikipedia.org/wiki/Simon%27s_problem#Simon's_algorithm>)\n"
   ]
  },
  {
   "cell_type": "markdown",
   "metadata": {},
   "source": [
    "## Import related lib"
   ]
  },
  {
   "cell_type": "code",
   "execution_count": 1,
   "metadata": {},
   "outputs": [],
   "source": [
    "from braket.devices import LocalSimulator\n",
    "from braket.circuits import Circuit\n",
    "import random\n",
    "import matplotlib.pyplot as plt"
   ]
  },
  {
   "cell_type": "code",
   "execution_count": 2,
   "metadata": {},
   "outputs": [],
   "source": [
    "# the following are imported for matrix computing to resolve the final equation set.\n",
    "from sympy import Matrix, pprint, MatrixSymbol, expand, mod_inverse"
   ]
  },
  {
   "cell_type": "code",
   "execution_count": 3,
   "metadata": {},
   "outputs": [],
   "source": [
    "# define the quantum device.\n",
    "# use LocalSimulator so that it can be run locally with Braket SDK installed.\n",
    "device = LocalSimulator()"
   ]
  },
  {
   "cell_type": "code",
   "execution_count": 4,
   "metadata": {},
   "outputs": [],
   "source": [
    "def generate_oracle(secret_s):\n",
    "    \n",
    "    # validating input secret s:\n",
    "    first_1_bit_location = -1\n",
    "    other_1_bit_location_list = list()\n",
    "    \n",
    "    for index,bit_value in enumerate(secret_s):\n",
    "        if (bit_value != '0' and bit_value != '1'):\n",
    "            raise Exception ('Incorrect char \\'' + bit_value + '\\' in secret string S:' + secret_s)\n",
    "        else:\n",
    "            if (bit_value == '1'):\n",
    "                if (first_1_bit_location == -1):\n",
    "                    first_1_bit_location = index\n",
    "                else:\n",
    "                    other_1_bit_location_list.append(index)\n",
    "                \n",
    "    if (first_1_bit_location == -1):\n",
    "        raise Exception (' All 0 in secret string S')\n",
    "            \n",
    "    n = len(str(secret_s))\n",
    "    \n",
    "    oracle_circuit = Circuit()\n",
    "\n",
    "        \n",
    "    oracle_circuit.cnot(first_1_bit_location, first_1_bit_location+n)\n",
    "    \n",
    "    for other_1_bit_location in other_1_bit_location_list:\n",
    "        oracle_circuit.cnot(first_1_bit_location, other_1_bit_location)\n",
    "        \n",
    "    for i in range(n):\n",
    "        oracle_circuit.cnot(i, n+i)\n",
    "        \n",
    "    for other_1_bit_location in other_1_bit_location_list:\n",
    "        oracle_circuit.cnot(first_1_bit_location, other_1_bit_location)\n",
    "                \n",
    "    return oracle_circuit"
   ]
  },
  {
   "cell_type": "code",
   "execution_count": 5,
   "metadata": {},
   "outputs": [],
   "source": [
    "def generate_input_circuit(source_list):\n",
    "    \n",
    "    input_circuit_list = list()\n",
    "    \n",
    "    for input_index, digit_string in enumerate(source_list):\n",
    "        cur_circuit = Circuit()\n",
    "        for reg_index, digit_value in enumerate(digit_string):\n",
    "            if (digit_value == '0'):\n",
    "                cur_circuit.i(reg_index)\n",
    "            elif (digit_value == '1'):\n",
    "                cur_circuit.x(reg_index)\n",
    "            else:\n",
    "                raise Exception('incorrect input value: \\'' + digit_value + '\\' in: ' + digit_string )\n",
    "        \n",
    "        input_circuit_list.append(cur_circuit)\n",
    "        \n",
    "    return input_circuit_list"
   ]
  },
  {
   "cell_type": "code",
   "execution_count": null,
   "metadata": {},
   "outputs": [],
   "source": []
  },
  {
   "cell_type": "code",
   "execution_count": 6,
   "metadata": {},
   "outputs": [],
   "source": [
    "def generate_simon_circuit(secret_s):\n",
    "    \n",
    "    bit_number = len(secret_s)\n",
    "        \n",
    "    oracle_circuit = generate_oracle(secret_s)\n",
    "    \n",
    "    input_circuit = Circuit()\n",
    "    \n",
    "    for i in range(bit_number):\n",
    "        input_circuit.h(i)\n",
    "        \n",
    "    output_circuit = Circuit()\n",
    "    \n",
    "    for i in range(bit_number):\n",
    "        output_circuit.h(i)\n",
    "        \n",
    "    simon_circuit = input_circuit + oracle_circuit + output_circuit\n",
    "    \n",
    "    return simon_circuit\n",
    "    \n",
    "    \n",
    "    \n",
    "    "
   ]
  },
  {
   "cell_type": "code",
   "execution_count": 7,
   "metadata": {},
   "outputs": [],
   "source": [
    "def generate_full_bit_string(bit_number):\n",
    "    zero_string = '0' * bit_number\n",
    "    result_list = list()\n",
    "    for i in range(pow(2, bit_number)):\n",
    "        cur_string = (zero_string + bin(i)[2:])[-bit_number:]\n",
    "        result_list.append(cur_string)\n",
    "    return result_list"
   ]
  },
  {
   "cell_type": "code",
   "execution_count": 8,
   "metadata": {},
   "outputs": [],
   "source": [
    "def generate_random_secret_s(start=2, end=8):\n",
    "    random_bit_number = random.randint(start, end)\n",
    "    \n",
    "    secret_s_list = generate_full_bit_string(random_bit_number)[1:]\n",
    "    \n",
    "    candidate_number = len(secret_s_list)\n",
    "    \n",
    "    random_index = random.randint(0,candidate_number-1)\n",
    "    \n",
    "    selected_secret_s = secret_s_list[random_index]\n",
    "    \n",
    "    return selected_secret_s"
   ]
  },
  {
   "cell_type": "code",
   "execution_count": 9,
   "metadata": {},
   "outputs": [],
   "source": [
    "secret_s = generate_random_secret_s()"
   ]
  },
  {
   "cell_type": "code",
   "execution_count": 10,
   "metadata": {},
   "outputs": [
    {
     "data": {
      "text/plain": [
       "'10101010'"
      ]
     },
     "execution_count": 10,
     "metadata": {},
     "output_type": "execute_result"
    }
   ],
   "source": [
    "secret_s"
   ]
  },
  {
   "cell_type": "code",
   "execution_count": 11,
   "metadata": {},
   "outputs": [],
   "source": [
    "bit_number = len(secret_s)"
   ]
  },
  {
   "cell_type": "code",
   "execution_count": 12,
   "metadata": {},
   "outputs": [],
   "source": [
    "simon_circuit = generate_simon_circuit(secret_s)"
   ]
  },
  {
   "cell_type": "code",
   "execution_count": 13,
   "metadata": {},
   "outputs": [
    {
     "name": "stdout",
     "output_type": "stream",
     "text": [
      "T   : |0|    1    | 2 | 3 | 4 | 5 |6| 7 | 8 |9|\n",
      "                                               \n",
      "q0  : -H-C---------C---C---C---C---C-C---C---H-\n",
      "         |         |   |   |   |   | |   |     \n",
      "q1  : -H-|-C-------|-H-|---|---|---|-|---|-----\n",
      "         | |       |   |   |   |   | |   |     \n",
      "q2  : -H-|-|-------X---|-C-|---|---X-|-H-|-----\n",
      "         | |           | | |   |     |   |     \n",
      "q3  : -H-|-|-C-----H---|-|-|---|-----|---|-----\n",
      "         | | |         | | |   |     |   |     \n",
      "q4  : -H-|-|-|---------X-|-|-C-|-----X---|-H---\n",
      "         | | |           | | | |         |     \n",
      "q5  : -H-|-|-|-C---H-----|-|-|-|---------|-----\n",
      "         | | | |         | | | |         |     \n",
      "q6  : -H-|-|-|-|---------|-X-|-|-C-------X---H-\n",
      "         | | | |         |   | | |             \n",
      "q7  : -H-|-|-|-|-C-H-----|---|-|-|-------------\n",
      "         | | | | |       |   | | |             \n",
      "q8  : ---X-|-|-|-|-------|---|-X-|-------------\n",
      "           | | | |       |   |   |             \n",
      "q9  : -----X-|-|-|-------|---|---|-------------\n",
      "             | | |       |   |   |             \n",
      "q10 : -------|-|-|-------X---|---|-------------\n",
      "             | | |           |   |             \n",
      "q11 : -------X-|-|-----------|---|-------------\n",
      "               | |           |   |             \n",
      "q12 : ---------|-|-----------X---|-------------\n",
      "               | |               |             \n",
      "q13 : ---------X-|---------------|-------------\n",
      "                 |               |             \n",
      "q14 : -----------|---------------X-------------\n",
      "                 |                             \n",
      "q15 : -----------X-----------------------------\n",
      "\n",
      "T   : |0|    1    | 2 | 3 | 4 | 5 |6| 7 | 8 |9|\n"
     ]
    }
   ],
   "source": [
    "print(simon_circuit)"
   ]
  },
  {
   "cell_type": "code",
   "execution_count": 14,
   "metadata": {},
   "outputs": [
    {
     "name": "stdout",
     "output_type": "stream",
     "text": [
      "Counter({'0010011001101111': 1, '0001111100101100': 1, '1111010101111000': 1, '0001010001110001': 1, '1110000000100100': 1, '1011111000010011': 1, '1111101000100001': 1, '1011111001110101': 1, '0111100001000010': 1, '1001100000101111': 1, '0101000101001010': 1, '0100111100000011': 1, '1011111001110010': 1, '1000011001011001': 1, '1000100101011100': 1, '0010001001110100': 1})\n"
     ]
    }
   ],
   "source": [
    "# run 2 * bit_number times to get the y output\n",
    "# according to Simon's algorithm, we only need bit_number-1 independent y to caculate s\n",
    "# in real world, we may get y with all zeros or dependent y, \n",
    "# running bit_number-1 time is not enough to get bit_number-1 independent y\n",
    "# so we run 2 * bit_number times to generate y, \n",
    "# the complexity is O(2*bit_number), which is still O(bit_number), aka O(n)\n",
    "\n",
    "task = device.run(simon_circuit, shots=bit_number*2)\n",
    "result = task.result()\n",
    "print (result.measurement_counts)"
   ]
  },
  {
   "cell_type": "code",
   "execution_count": 15,
   "metadata": {},
   "outputs": [
    {
     "name": "stdout",
     "output_type": "stream",
     "text": [
      "measurement_of_input_registers: {'00100110': 1, '00011111': 1, '11110101': 1, '00010100': 1, '11100000': 1, '10111110': 3, '11111010': 1, '01111000': 1, '10011000': 1, '01010001': 1, '01001111': 1, '10000110': 1, '10001001': 1, '00100010': 1}\n",
      "\n"
     ]
    },
    {
     "data": {
      "image/png": "[encoded data removed]",
      "text/plain": [
       "<Figure size 432x288 with 1 Axes>"
      ]
     },
     "metadata": {
      "needs_background": "light"
     },
     "output_type": "display_data"
    }
   ],
   "source": [
    "# Simulate partial measurement by seperating out first n bits\n",
    "answer_plot = {}\n",
    "for measresult in result.measurement_counts.keys():\n",
    "    measresult_input = measresult[:bit_number]\n",
    "    if measresult_input in answer_plot:\n",
    "        answer_plot[measresult_input] += result.measurement_counts[measresult]\n",
    "    else:\n",
    "        answer_plot[measresult_input] = result.measurement_counts[measresult] \n",
    "\n",
    "print(f\"measurement_of_input_registers: {answer_plot}\\n\")\n",
    "plt.bar(answer_plot.keys(), answer_plot.values())\n",
    "plt.show()"
   ]
  },
  {
   "cell_type": "code",
   "execution_count": 16,
   "metadata": {},
   "outputs": [
    {
     "name": "stdout",
     "output_type": "stream",
     "text": [
      "The output we got:\n",
      "[0, 0, 1, 0, 0, 1, 1, 0]\n",
      "[0, 0, 0, 1, 1, 1, 1, 1]\n",
      "[1, 1, 1, 1, 0, 1, 0, 1]\n",
      "[0, 0, 0, 1, 0, 1, 0, 0]\n",
      "[1, 1, 1, 0, 0, 0, 0, 0]\n",
      "[1, 0, 1, 1, 1, 1, 1, 0]\n",
      "[1, 1, 1, 1, 1, 0, 1, 0]\n",
      "[0, 1, 1, 1, 1, 0, 0, 0]\n",
      "[1, 0, 0, 1, 1, 0, 0, 0]\n",
      "[0, 1, 0, 1, 0, 0, 0, 1]\n",
      "[0, 1, 0, 0, 1, 1, 1, 1]\n",
      "[1, 0, 0, 0, 0, 1, 1, 0]\n",
      "[1, 0, 0, 0, 1, 0, 0, 1]\n",
      "[0, 0, 1, 0, 0, 0, 1, 0]\n"
     ]
    }
   ],
   "source": [
    "lAnswer = [ (k,v) for k,v in answer_plot.items() if k != \"0\"*bit_number  ] #excluding the trivial all-zero\n",
    "Y = []\n",
    "for k, v in lAnswer:\n",
    "    Y.append( [ int(c) for c in k ] )\n",
    "    \n",
    "print('The output we got:')\n",
    "for a in Y:\n",
    "    print (a)"
   ]
  },
  {
   "cell_type": "code",
   "execution_count": 17,
   "metadata": {},
   "outputs": [],
   "source": [
    "def mod(x,modulus):\n",
    "    numer, denom = x.as_numer_denom()\n",
    "    return numer*mod_inverse(denom,modulus) % modulus"
   ]
  },
  {
   "cell_type": "code",
   "execution_count": 18,
   "metadata": {},
   "outputs": [
    {
     "name": "stdout",
     "output_type": "stream",
     "text": [
      "Matrix([[1, 0, 0, 0, 0, 0, 1, 0]])\n",
      "Matrix([[0, 1, 0, 0, 0, 0, 0, 0]])\n",
      "Matrix([[0, 0, 1, 0, 0, 0, 1, 0]])\n",
      "Matrix([[0, 0, 0, 1, 0, 0, 0, 0]])\n",
      "Matrix([[0, 0, 0, 0, 1, 0, 1, 0]])\n",
      "Matrix([[0, 0, 0, 0, 0, 1, 0, 0]])\n",
      "Matrix([[0, 0, 0, 0, 0, 0, 0, 1]])\n",
      "Matrix([[0, 0, 0, 0, 0, 0, 0, 0]])\n",
      "Matrix([[0, 0, 0, 0, 0, 0, 0, 0]])\n",
      "Matrix([[0, 0, 0, 0, 0, 0, 0, 0]])\n",
      "Matrix([[0, 0, 0, 0, 0, 0, 0, 0]])\n",
      "Matrix([[0, 0, 0, 0, 0, 0, 0, 0]])\n",
      "Matrix([[0, 0, 0, 0, 0, 0, 0, 0]])\n",
      "Matrix([[0, 0, 0, 0, 0, 0, 0, 0]])\n"
     ]
    }
   ],
   "source": [
    "Y = Matrix(Y)\n",
    "Y_transformed = Y.rref(iszerofunc=lambda x: x % 2==0)\n",
    "Y_new = Y_transformed[0].applyfunc(lambda x: mod(x,2)) #must takecare of negatives and fractional values\n",
    "for row_index in range(Y_new.shape[0]):\n",
    "    print (Y_new.row(row_index))"
   ]
  },
  {
   "cell_type": "code",
   "execution_count": null,
   "metadata": {},
   "outputs": [],
   "source": []
  },
  {
   "cell_type": "code",
   "execution_count": 19,
   "metadata": {},
   "outputs": [
    {
     "name": "stdout",
     "output_type": "stream",
     "text": [
      "The hidden bistring s[ 0 ], s[ 1 ]....s[ 7 ] is the one satisfying the following system of linear equations:\n",
      "s[ 0 ] + s[ 6 ] = 0\n",
      "s[ 1 ] = 0\n",
      "s[ 2 ] + s[ 6 ] = 0\n",
      "s[ 3 ] = 0\n",
      "s[ 4 ] + s[ 6 ] = 0\n",
      "s[ 5 ] = 0\n",
      "s[ 7 ] = 0\n",
      "\n",
      "Which is:  10101010\n"
     ]
    }
   ],
   "source": [
    "print(\"The hidden bistring s[ 0 ], s[ 1 ]....s[\",bit_number-1,\"] is the one satisfying the following system of linear equations:\")\n",
    "rows, cols = Y_new.shape\n",
    "result_s = ['0']*bit_number\n",
    "for r in range(rows):\n",
    "    \n",
    "    location_list = list()\n",
    "    for i,v in enumerate(list(Y_new[r,:])):\n",
    "        if (v == 1):\n",
    "            location_list.append(i)\n",
    "            \n",
    "    if (len(location_list) == 1):\n",
    "        print ('s[ ' + str(location_list[0]) +' ] = 0')\n",
    "    elif (len(location_list) > 1):\n",
    "        for location in location_list:\n",
    "            result_s[location] = '1'\n",
    "        Yr = [ \"s[ \"+str(location)+\" ]\" for location in location_list ]\n",
    "        tStr = \" + \".join(Yr)\n",
    "        print(tStr, \"= 0\")\n",
    "        \n",
    "result_s = ''.join(result_s)\n",
    "\n",
    "print()\n",
    "print ('Which is:  ' + result_s)"
   ]
  },
  {
   "cell_type": "code",
   "execution_count": null,
   "metadata": {},
   "outputs": [],
   "source": []
  },
  {
   "cell_type": "code",
   "execution_count": 20,
   "metadata": {},
   "outputs": [
    {
     "name": "stdout",
     "output_type": "stream",
     "text": [
      "We found the answer\n",
      "\tsecret string:10101010\n",
      "\tresult string:10101010\n"
     ]
    }
   ],
   "source": [
    "# check whether result_s is equal to secret_s:\n",
    "\n",
    "if (result_s == secret_s):\n",
    "    print ('We found the answer')\n",
    "    print ('\\tsecret string:' + secret_s)\n",
    "    print ('\\tresult string:' + result_s)\n",
    "else:\n",
    "    print ('Error, the answer is wrong')"
   ]
  },
  {
   "cell_type": "code",
   "execution_count": null,
   "metadata": {},
   "outputs": [],
   "source": []
  },
  {
   "cell_type": "markdown",
   "metadata": {},
   "source": [
    "### Appendix\n",
    "\n",
    "How did we design the Oracle circuit.\n",
    "\n",
    "The following cells explain how we designed the Oracle circuit, using an specified secret_s: 0110."
   ]
  },
  {
   "cell_type": "markdown",
   "metadata": {},
   "source": [
    "#### Basic idea\n",
    "\n",
    "Say that we have a secret string '0110', we want to generate an Oracle circuit with this secret string.\n",
    "\n",
    "The bit bumber of '0110' is 4, so the input qbit number should be 4.\n",
    "\n",
    "For all the possible inputs from '0000' to '1111', we can seperate them into two groups: x1 and x2, base on the rule of Simon's problem:\n",
    "\n",
    "$$x1 \\oplus x2 = s$$\n",
    "\n",
    "Put x1 in column 1, x2 in column 2 and secret string in column 3, we got the following table:\n",
    "\n",
    "|  x1   | x2  | s\n",
    "|  ----  | ----  |----  |\n",
    "| 0000  | 0110 | 0110 |\n",
    "| 0001  | 0111 | 0110 |\n",
    "| 0010  | 0100 | 0110 |\n",
    "| 0011  | 0101 | 0110 |\n",
    "| 1000  | 1110 | 0110 |\n",
    "| 1001  | 1111 | 0110 |\n",
    "| 1010  | 1100 | 0110 |\n",
    "| 1011  | 1101 | 0110 |\n",
    "\n",
    "\n",
    "After analyzing the table, we found that we can seperate all the inputs base on the second bit of x.\n",
    "\n",
    "In column 1, all the second bit of x1 is 0, while in column 2, all the second bit of x2 is 1.\n",
    "\n",
    "    x1[1] = 0\n",
    "    x2[1] = 1\n",
    "\n",
    "In fact, for any location $j$, if $s[j] = 1$, we can use bit number $j$ to seperate all the inputs into two groups which meet the requirement of Simon's Oracle.\n",
    "\n",
    "In our example, when s is '0110', we can use the third bit too. Of course, we will seperate the intputs in different way if we use the third bit.\n",
    "\n",
    "+ this is the first key thing we identified, use the location $j$ where we find the first 1 in secret string s. To seperate the inputs into two groups.\n",
    "\n",
    "\n",
    "As all elements in x1 (which is column 1 in the table) are different from each other, we can use the x1 as the output of the ciruit, this will meet the requirement of Simon's Oracle cuircuit:\n",
    "\n",
    "|  x1   | x2  | s | y (=x1)\n",
    "|  ----  | ----  |----  |----  |\n",
    "| 0000  | 0110 | 0110 |0000  |\n",
    "| 0001  | 0111 | 0110 |0001  |\n",
    "| 0010  | 0100 | 0110 |0010  |\n",
    "| 0011  | 0101 | 0110 |0011  |\n",
    "| 1000  | 1110 | 0110 |1000  |\n",
    "| 1001  | 1111 | 0110 |1001  |\n",
    "| 1010  | 1100 | 0110 |1010  |\n",
    "| 1011  | 1101 | 0110 |1011  |\n",
    "\n",
    "From the requirement: $x1 \\oplus x2 = s$, we know that $x2 \\oplus s = x1$\n",
    "\n",
    "So, for all the x2, we can make $ y = x1 =  x2 \\oplus s $ \n",
    "\n",
    "The basic logic of our circuit is:\n",
    "\n",
    "    j = the location of first 1 we found in secret_s\n",
    "    if ( input_x[j] == 0):\n",
    "        y = input_x\n",
    "    elif (input_x[j] == 1):\n",
    "        y = input_x[j] XOR secret_s\n",
    "        \n",
    "+ This is the second key thing we indentified: XOR the input $x$ with $s$ if bit $j$ in $s$ is $1$\n"
   ]
  },
  {
   "cell_type": "markdown",
   "metadata": {},
   "source": [
    "#### Implemetation\n",
    "\n",
    "The question left to us is how to implement the basic logic in quantum circuit"
   ]
  },
  {
   "cell_type": "code",
   "execution_count": 21,
   "metadata": {},
   "outputs": [],
   "source": [
    "# we have the secret string '0110'\n",
    "secret_s = '0110'\n",
    "\n",
    "# the location j of first 1 found in secret_s is 1 (0 is the first bit, 1 is the second bit)\n",
    "j = 1"
   ]
  },
  {
   "cell_type": "markdown",
   "metadata": {},
   "source": [
    "If we already know that `x[1] = 0`, then the quantum circuit is very simple, we just need to copy all the input qubit to output qubit.\n",
    "\n",
    "The circuit is like this:"
   ]
  },
  {
   "cell_type": "code",
   "execution_count": 22,
   "metadata": {},
   "outputs": [
    {
     "name": "stdout",
     "output_type": "stream",
     "text": [
      "T  : |   0   |\n",
      "              \n",
      "q0 : -C-------\n",
      "      |       \n",
      "q1 : -|-C-----\n",
      "      | |     \n",
      "q2 : -|-|-C---\n",
      "      | | |   \n",
      "q3 : -|-|-|-C-\n",
      "      | | | | \n",
      "q4 : -X-|-|-|-\n",
      "        | | | \n",
      "q5 : ---X-|-|-\n",
      "          | | \n",
      "q6 : -----X-|-\n",
      "            | \n",
      "q7 : -------X-\n",
      "\n",
      "T  : |   0   |\n"
     ]
    }
   ],
   "source": [
    "oracle_circuit = Circuit()\n",
    "oracle_circuit.cnot(0,4).cnot(1,5).cnot(2,6).cnot(3,7)\n",
    "print (oracle_circuit)"
   ]
  },
  {
   "cell_type": "markdown",
   "metadata": {},
   "source": [
    "On the other hand, if we know that `x[1] = 1`, we need to let the output be $ x \\oplus s$  \n",
    "\n",
    "While, there is no other ways we can input secret s into the quantum circuit.\n",
    "\n",
    "We need to caculate the result of $x \\oplus s $ on the fly. \n",
    "\n",
    "Look into the $\\oplus$ operation bit by bit, we know that when `s[i] = 0` we keep `x[i]`, when `s[i] = 1` we flip `x[i]`.\n",
    "\n",
    "For the secret s '0110' the circuit is like this:"
   ]
  },
  {
   "cell_type": "code",
   "execution_count": 23,
   "metadata": {},
   "outputs": [
    {
     "name": "stdout",
     "output_type": "stream",
     "text": [
      "T  : | 0 | 1 |\n",
      "              \n",
      "q0 : -C-------\n",
      "      |       \n",
      "q1 : -|-X-C---\n",
      "      |   |   \n",
      "q2 : -|-X-|-C-\n",
      "      |   | | \n",
      "q3 : -|-C-|-|-\n",
      "      | | | | \n",
      "q4 : -X-|-|-|-\n",
      "        | | | \n",
      "q5 : ---|-X-|-\n",
      "        |   | \n",
      "q6 : ---|---X-\n",
      "        |     \n",
      "q7 : ---X-----\n",
      "\n",
      "T  : | 0 | 1 |\n"
     ]
    }
   ],
   "source": [
    "oracle_circuit = Circuit()\n",
    "oracle_circuit.cnot(0,4).cnot(3,7).x(1).x(2).cnot(1,5).cnot(2,6)\n",
    "print (oracle_circuit)"
   ]
  },
  {
   "cell_type": "markdown",
   "metadata": {},
   "source": [
    "Now we have two seperated circuits for two cases: `x[1] = 0` and `x[1] = 1`.\n",
    "\n",
    "We need to combine them into one circuit, that means we don't know whether `x[1] = 0` or `x[1] = 1`.\n",
    "\n",
    "The key thing is that we need to flip qbit1 and qbit2 if `input_x[1] = 1`, that is what exactly cnot gate can do.\n",
    "\n",
    "For qbit2, we can use qbit1 to control the flip.\n",
    "\n",
    "For qbit1 itself, there is a little trouble, we do not have cnote gate can flip the control bit itself.\n",
    "\n",
    "But if we look into the true table of qbit1, we found that we actually don't need to do anything, we just need to output 0. If the input of this bit is 0, that is `x[1] = 0`, we need to output `x[1]`, which is 0, if the input of this bit 1, that is `x[1] = 1`, we need to flip itself and then copy to output bit, which is still 0.\n",
    "\n",
    "So, we don't need to do anything for qbit1, while, when we are designing quantum circuit, we are requested to generate continued qbit, we must assign some gates for this qbit. So, two cnot gate which always generate 0 is a good choice.\n",
    "\n",
    "Now, the circuit is something like this:\n"
   ]
  },
  {
   "cell_type": "code",
   "execution_count": 24,
   "metadata": {},
   "outputs": [
    {
     "name": "stdout",
     "output_type": "stream",
     "text": [
      "T  : |  0  |1| 2 |\n",
      "                  \n",
      "q0 : -C-----------\n",
      "      |           \n",
      "q1 : -|-C---C-C---\n",
      "      | |   | |   \n",
      "q2 : -|-|---X-|-C-\n",
      "      | |     | | \n",
      "q3 : -|-|-C---|-|-\n",
      "      | | |   | | \n",
      "q4 : -X-|-|---|-|-\n",
      "        | |   | | \n",
      "q5 : ---X-|---X-|-\n",
      "          |     | \n",
      "q6 : -----|-----X-\n",
      "          |       \n",
      "q7 : -----X-------\n",
      "\n",
      "T  : |  0  |1| 2 |\n"
     ]
    }
   ],
   "source": [
    "oracle_circuit = Circuit()\n",
    "oracle_circuit.cnot(0,4).cnot(1,5).cnot(3,7).cnot(1,2).cnot(1,5).cnot(2,6)\n",
    "print (oracle_circuit)"
   ]
  },
  {
   "cell_type": "code",
   "execution_count": null,
   "metadata": {},
   "outputs": [],
   "source": []
  },
  {
   "cell_type": "markdown",
   "metadata": {},
   "source": [
    "For quantum circuit, we need to make sure that the input `|x>` is equal to output `|x>`. \n",
    "\n",
    "So we add another cnot gate to convert qbit2 to what it is originaly:"
   ]
  },
  {
   "cell_type": "code",
   "execution_count": 25,
   "metadata": {},
   "outputs": [
    {
     "name": "stdout",
     "output_type": "stream",
     "text": [
      "T  : |  0  |1| 2 |3|\n",
      "                    \n",
      "q0 : -C-------------\n",
      "      |             \n",
      "q1 : -|-C---C-C---C-\n",
      "      | |   | |   | \n",
      "q2 : -|-|---X-|-C-X-\n",
      "      | |     | |   \n",
      "q3 : -|-|-C---|-|---\n",
      "      | | |   | |   \n",
      "q4 : -X-|-|---|-|---\n",
      "        | |   | |   \n",
      "q5 : ---X-|---X-|---\n",
      "          |     |   \n",
      "q6 : -----|-----X---\n",
      "          |         \n",
      "q7 : -----X---------\n",
      "\n",
      "T  : |  0  |1| 2 |3|\n"
     ]
    }
   ],
   "source": [
    "oracle_circuit = Circuit()\n",
    "oracle_circuit.cnot(0,4).cnot(1,5).cnot(3,7).cnot(1,2).cnot(1,5).cnot(2,6).cnot(1,2)\n",
    "print (oracle_circuit)"
   ]
  },
  {
   "cell_type": "markdown",
   "metadata": {},
   "source": [
    "Now we have an Oracle circuit which meet the requirement of Simon's problem.\n",
    "\n",
    "But there is still somthing missing, in this circuit, if `x[j] = 0` then ` f(x) = x`.\n",
    "\n",
    "It doesn't look like a real \"function\", and the user of this Oracle circuit can find some clues of secret_s，then they may solve the problem in shorter time.\n",
    "\n",
    "A simple solution is adding some x gates in the output qubit to flip some of the output bits, to make the output look different from the input when `x[j] = 0`. \n",
    "\n",
    "Only if we use same x gates for all shots, it doesn't not impact the result of Simon's algorithm, as the output still meet the requirement of Simon's Oracle."
   ]
  },
  {
   "cell_type": "code",
   "execution_count": null,
   "metadata": {},
   "outputs": [],
   "source": []
  }
 ],
 "metadata": {
  "kernelspec": {
   "display_name": "conda_braket",
   "language": "python",
   "name": "conda_braket"
  },
  "language_info": {
   "codemirror_mode": {
    "name": "ipython",
    "version": 3
   },
   "file_extension": ".py",
   "mimetype": "text/x-python",
   "name": "python",
   "nbconvert_exporter": "python",
   "pygments_lexer": "ipython3",
   "version": "3.7.9"
  }
 },
 "nbformat": 4,
 "nbformat_minor": 4
}
